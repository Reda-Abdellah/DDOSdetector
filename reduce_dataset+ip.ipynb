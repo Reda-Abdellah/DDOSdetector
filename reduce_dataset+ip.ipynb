{
 "cells": [
  {
   "cell_type": "code",
   "execution_count": 99,
   "metadata": {},
   "outputs": [],
   "source": [
    "import numpy as np\n",
    "import pandas as pd\n"
   ]
  },
  {
   "cell_type": "code",
   "execution_count": 100,
   "metadata": {},
   "outputs": [],
   "source": [
    "data=pd.read_csv('reduced.csv',header=None)\n",
    "#data"
   ]
  },
  {
   "cell_type": "code",
   "execution_count": 101,
   "metadata": {},
   "outputs": [],
   "source": [
    "X_numerical=data[[2,3,9,11,1]]\n",
    "\n",
    "#dummies\n",
    "X_categorical=pd.get_dummies(data[[5]])\n",
    "Y_labled=pd.get_dummies(data[[12]])"
   ]
  },
  {
   "cell_type": "code",
   "execution_count": 102,
   "metadata": {},
   "outputs": [],
   "source": [
    "#data\n"
   ]
  },
  {
   "cell_type": "code",
   "execution_count": 103,
   "metadata": {},
   "outputs": [],
   "source": [
    "#on garde juse dos et normal\n",
    "Y_labled=Y_labled[['12_dos']]"
   ]
  },
  {
   "cell_type": "code",
   "execution_count": 104,
   "metadata": {},
   "outputs": [],
   "source": [
    "#casting to numpy arrays and combining matrix\n",
    "\n",
    "Y=np.array(Y_labled)\n",
    "X=np.hstack((np.array(X_categorical),np.array(X_numerical)))\n",
    "X=np.hstack((X ,  np.array(data[[7]])))"
   ]
  },
  {
   "cell_type": "code",
   "execution_count": 105,
   "metadata": {},
   "outputs": [],
   "source": [
    "# reducing\n",
    "from sklearn.cross_validation import train_test_split\n",
    "a, X, b, Y = train_test_split(X, Y, test_size = 0.10, random_state = 0)"
   ]
  },
  {
   "cell_type": "code",
   "execution_count": 106,
   "metadata": {},
   "outputs": [
    {
     "name": "stdout",
     "output_type": "stream",
     "text": [
      "['.A..SF' '....S.' '.A..SF' ... '.A....' '...RS.' '.AP.S.']\n"
     ]
    }
   ],
   "source": [
    "aspf=X[:,-1]\n",
    "print(aspf)\n",
    "#dimension \n",
    "row_size=aspf.size\n",
    "#number of caracteres\n",
    "nb_attr=len(aspf[0])\n"
   ]
  },
  {
   "cell_type": "code",
   "execution_count": 107,
   "metadata": {},
   "outputs": [],
   "source": [
    "ASPF=np.ones((row_size,nb_attr))\n",
    "for i in range(0,row_size):\n",
    "    for j in range(0,nb_attr):\n",
    "        if aspf[i][j]=='.':\n",
    "            ASPF[i,j]=0"
   ]
  },
  {
   "cell_type": "code",
   "execution_count": 108,
   "metadata": {},
   "outputs": [],
   "source": [
    "X=X[:,:-1]\n",
    "X=np.hstack((X,ASPF))\n"
   ]
  },
  {
   "cell_type": "code",
   "execution_count": 109,
   "metadata": {},
   "outputs": [],
   "source": [
    "#for ip\n",
    "import pyasn\n",
    "IP=np.zeros((row_size,2))\n",
    "asndb = pyasn.pyasn('ipasn_20140513.dat')\n",
    "\n",
    "\n",
    "#print(asndb.lookup('41.54.65.99')[0])\n",
    "\n",
    "for i in range(0,row_size):\n",
    "    ASN=asndb.lookup(X[i,1])[0]\n",
    "    if str(ASN)=='None' :\n",
    "        ASN=0\n",
    "    IP[i,0]=ASN\n",
    "    ASN=asndb.lookup(X[i,2])[0]\n",
    "    if str(ASN)=='None' :\n",
    "        ASN=0\n",
    "    IP[i,1]=ASN\n",
    "\n",
    " \n",
    "X=np.hstack((X[:,0:1],X[:,3:]))\n",
    "X=np.hstack((X,IP))\n",
    "\n",
    "#print(X)\n",
    "    \n",
    "\n",
    "\n",
    "\n"
   ]
  },
  {
   "cell_type": "code",
   "execution_count": 110,
   "metadata": {},
   "outputs": [],
   "source": [
    "# Splitting the dataset into the Training set and Test set\n",
    "from sklearn.cross_validation import train_test_split\n",
    "X_train, X_test, y_train, y_test = train_test_split(X, Y, test_size = 0.25, random_state = 0)\n"
   ]
  },
  {
   "cell_type": "code",
   "execution_count": 111,
   "metadata": {},
   "outputs": [
    {
     "name": "stderr",
     "output_type": "stream",
     "text": [
      "/home/reda/anaconda3/lib/python3.6/site-packages/sklearn/utils/validation.py:475: DataConversionWarning: Data with input dtype object was converted to float64 by StandardScaler.\n",
      "  warnings.warn(msg, DataConversionWarning)\n"
     ]
    }
   ],
   "source": [
    "# Feature Scaling\n",
    "from sklearn.preprocessing import StandardScaler\n",
    "sc = StandardScaler()\n",
    "X_train = sc.fit_transform(X_train)\n",
    "X_test = sc.transform(X_test)"
   ]
  },
  {
   "cell_type": "code",
   "execution_count": 112,
   "metadata": {},
   "outputs": [
    {
     "name": "stderr",
     "output_type": "stream",
     "text": [
      "/home/reda/anaconda3/lib/python3.6/site-packages/ipykernel_launcher.py:4: DataConversionWarning: A column-vector y was passed when a 1d array was expected. Please change the shape of y to (n_samples, ), for example using ravel().\n",
      "  after removing the cwd from sys.path.\n"
     ]
    },
    {
     "data": {
      "text/plain": [
       "KNeighborsClassifier(algorithm='auto', leaf_size=30, metric='minkowski',\n",
       "           metric_params=None, n_jobs=-1, n_neighbors=1, p=2,\n",
       "           weights='uniform')"
      ]
     },
     "execution_count": 112,
     "metadata": {},
     "output_type": "execute_result"
    }
   ],
   "source": [
    "# Fitting kneighbor to the Training set\n",
    "from sklearn.neighbors import KNeighborsClassifier\n",
    "classifier = KNeighborsClassifier(1, n_jobs=-1)\n",
    "classifier.fit(X_train, y_train)"
   ]
  },
  {
   "cell_type": "code",
   "execution_count": 113,
   "metadata": {},
   "outputs": [],
   "source": [
    "# Predicting the Test set results\n",
    "y_pred = classifier.predict(X_test)"
   ]
  },
  {
   "cell_type": "code",
   "execution_count": 114,
   "metadata": {},
   "outputs": [],
   "source": [
    "# Making the Confusion Matrix\n",
    "from sklearn.metrics import confusion_matrix\n",
    "cm = confusion_matrix(y_test, y_pred)\n"
   ]
  },
  {
   "cell_type": "code",
   "execution_count": 115,
   "metadata": {},
   "outputs": [
    {
     "name": "stdout",
     "output_type": "stream",
     "text": [
      "[[14127     7]\n",
      " [    3   863]]\n"
     ]
    }
   ],
   "source": [
    "#accuracy=(cm[1,1]+cm[0,0])/(cm[1,1]+cm[0,0]+cm[0,1]+cm[1,0])\n",
    "#print(\"accuracy is : \"+str(accuracy*100)+'%')\n",
    "print(cm)"
   ]
  },
  {
   "cell_type": "code",
   "execution_count": 116,
   "metadata": {},
   "outputs": [
    {
     "name": "stdout",
     "output_type": "stream",
     "text": [
      "['.A....' '.A....' '.A....' ... '.AP.SF' '.AP.SF' '.A...F']\n"
     ]
    },
    {
     "name": "stderr",
     "output_type": "stream",
     "text": [
      "/home/reda/anaconda3/lib/python3.6/site-packages/sklearn/utils/validation.py:475: DataConversionWarning: Data with input dtype object was converted to float64 by StandardScaler.\n",
      "  warnings.warn(msg, DataConversionWarning)\n"
     ]
    }
   ],
   "source": [
    "data2=pd.read_csv('reduced3.csv',header=None)\n",
    "\n",
    "\n",
    "X_numerical2=data2[[2,3,9,11,1]]\n",
    "\n",
    "#dummies\n",
    "X_categorical2=pd.get_dummies(data2[[5]])\n",
    "Y_labled2=pd.get_dummies(data2[[12]])\n",
    "\n",
    "\n",
    "#on garde juse dos et normal\n",
    "Y_labled2=Y_labled2[['12_dos']]\n",
    "\n",
    "\n",
    "#casting to numpy arrays and combining matrix\n",
    "\n",
    "Y2=np.array(Y_labled2)\n",
    "X2=np.hstack((np.array(X_categorical2),np.array(X_numerical2)))\n",
    "X2=np.hstack((X2 ,  np.array(data2[[7]])))\n",
    "\n",
    "\n",
    "\n",
    "\n",
    "# reducing\n",
    "from sklearn.cross_validation import train_test_split\n",
    "a, X2, b, Y2 = train_test_split(X2, Y2, test_size = 0.10, random_state = 0)\n",
    "\n",
    "aspf2=X2[:,-1]\n",
    "print(aspf2)\n",
    "#dimension \n",
    "row_size2=aspf2.size\n",
    "#number of caracteres\n",
    "nb_attr2=len(aspf2[0])\n",
    "\n",
    "\n",
    "\n",
    "\n",
    "\n",
    "ASPF2=np.ones((row_size2,nb_attr2))\n",
    "for i in range(0,row_size2):\n",
    "    for j in range(0,nb_attr2):\n",
    "        if aspf2[i][j]=='.':\n",
    "            ASPF2[i,j]=0\n",
    "\n",
    "\n",
    "\n",
    "\n",
    "\n",
    "\n",
    "\n",
    "\n",
    "\n",
    "X2=X2[:,:-1]\n",
    "X2=np.hstack((X2,ASPF2))\n",
    "\n",
    "\n",
    "\n",
    "\n",
    "\n",
    "\n",
    "\n",
    "\n",
    "\n",
    "#for ip\n",
    "import pyasn\n",
    "IP2=np.zeros((row_size2,2))\n",
    "asndb2 = pyasn.pyasn('ipasn_20140513.dat')\n",
    "\n",
    "\n",
    "#print(asndb.lookup('41.54.65.99')[0])\n",
    "\n",
    "for i in range(0,row_size2):\n",
    "    ASN2=asndb2.lookup(X2[i,1])[0]\n",
    "    if str(ASN2)=='None' :\n",
    "        ASN2=0\n",
    "    IP2[i,0]=ASN2\n",
    "    ASN2=asndb2.lookup(X2[i,2])[0]\n",
    "    if str(ASN2)=='None' :\n",
    "        ASN2=0\n",
    "    IP2[i,1]=ASN2\n",
    "\n",
    " \n",
    "X2=np.hstack((X2[:,0:1],X2[:,3:]))\n",
    "X2=np.hstack((X2,IP2))\n",
    "\n",
    "#print(X)\n",
    "    \n",
    "\n",
    "\n",
    "\n",
    "\n",
    "\n",
    "\n",
    "\n",
    "\n",
    "\n",
    "# Feature Scaling\n",
    "X2 = sc.fit_transform(X2)\n",
    "\n",
    "\n",
    "# Predicting the Test set results\n",
    "y_pred2 = classifier.predict(X2)\n",
    "\n",
    "\n"
   ]
  },
  {
   "cell_type": "code",
   "execution_count": 117,
   "metadata": {},
   "outputs": [
    {
     "name": "stdout",
     "output_type": "stream",
     "text": [
      "[[37837    49]\n",
      " [   39  2075]]\n"
     ]
    }
   ],
   "source": [
    "cm2 = confusion_matrix(Y2, y_pred2)\n",
    "\n",
    "\n",
    "#accuracy2=(cm2[1,1]+cm2[0,0])/(cm2[1,1]+cm2[0,0]+cm2[0,1]+cm2[1,0])\n",
    "#print(\"accuracy 2 is : \"+str(accuracy2*100)+'%')\n",
    "print(cm2)"
   ]
  },
  {
   "cell_type": "code",
   "execution_count": null,
   "metadata": {},
   "outputs": [],
   "source": []
  },
  {
   "cell_type": "code",
   "execution_count": null,
   "metadata": {},
   "outputs": [],
   "source": []
  }
 ],
 "metadata": {
  "kernelspec": {
   "display_name": "Python 3",
   "language": "python",
   "name": "python3"
  },
  "language_info": {
   "codemirror_mode": {
    "name": "ipython",
    "version": 3
   },
   "file_extension": ".py",
   "mimetype": "text/x-python",
   "name": "python",
   "nbconvert_exporter": "python",
   "pygments_lexer": "ipython3",
   "version": "3.6.5"
  }
 },
 "nbformat": 4,
 "nbformat_minor": 2
}
